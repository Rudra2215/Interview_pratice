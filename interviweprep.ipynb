{
  "nbformat": 4,
  "nbformat_minor": 0,
  "metadata": {
    "colab": {
      "provenance": [],
      "authorship_tag": "ABX9TyNJCR99+FUqt7C5l0zky2Mh",
      "include_colab_link": true
    },
    "kernelspec": {
      "name": "python3",
      "display_name": "Python 3"
    },
    "language_info": {
      "name": "python"
    }
  },
  "cells": [
    {
      "cell_type": "markdown",
      "metadata": {
        "id": "view-in-github",
        "colab_type": "text"
      },
      "source": [
        "<a href=\"https://colab.research.google.com/github/Rudra2215/Interview_pratice/blob/main/interviweprep.ipynb\" target=\"_parent\"><img src=\"https://colab.research.google.com/assets/colab-badge.svg\" alt=\"Open In Colab\"/></a>"
      ]
    },
    {
      "cell_type": "code",
      "execution_count": null,
      "metadata": {
        "colab": {
          "base_uri": "https://localhost:8080/"
        },
        "id": "ZCabpsr_GYPY",
        "outputId": "f8a49d0c-7207-4396-971f-232b7460e94c"
      },
      "outputs": [
        {
          "output_type": "stream",
          "name": "stdout",
          "text": [
            "1\n",
            "5\n",
            "1 5 5 5 1\n",
            "17\n"
          ]
        }
      ],
      "source": [
        "MOD = 10**9 + 7\n",
        "\n",
        "def max_robbery(H):\n",
        "    N = len(H)\n",
        "\n",
        "    if N == 1:\n",
        "        return 0\n",
        "\n",
        "    if N == 2:\n",
        "        return (H[0] + H[1]) % MOD\n",
        "\n",
        "    if N == 3:\n",
        "        return (H[0] + H[1] + H[2]) % MOD\n",
        "\n",
        "    # Initialize dp array\n",
        "    dp = [0] * N\n",
        "\n",
        "    # Base cases\n",
        "    dp[0] = 0  # No two houses to rob initially\n",
        "    dp[1] = (H[0] + H[1]) % MOD  # Only two houses to rob\n",
        "    dp[2] = (H[0] + H[1] + H[2]) % MOD  # Rob all three\n",
        "\n",
        "    for i in range(3, N):\n",
        "        dp[i] = max(dp[i-2] + H[i] + H[i-1], dp[i-3] + H[i] + H[i-1] + H[i-2], dp[i-1]) % MOD\n",
        "\n",
        "    return dp[-1]\n",
        "\n",
        "# Input reading\n",
        "T = int(input())\n",
        "\n",
        "for _ in range(T):\n",
        "    N = int(input())\n",
        "    H = list(map(int, input().split()))\n",
        "\n",
        "    print(max_robbery(H))\n"
      ]
    },
    {
      "cell_type": "code",
      "source": [
        "MOD = 10**9 + 7\n",
        "\n",
        "def max_robbery(H):\n",
        "    N = len(H)\n",
        "\n",
        "    if N == 1:\n",
        "        return 0\n",
        "\n",
        "    if N == 2:\n",
        "        return (H[0] + H[1]) % MOD\n",
        "\n",
        "    if N == 3:\n",
        "        return (H[0] + H[1] + H[2]) % MOD\n",
        "\n",
        "    # Initialize dp array\n",
        "    dp = [0] * N\n",
        "\n",
        "    # Base cases\n",
        "    dp[0] = 0  # No two houses to rob initially\n",
        "    dp[1] = (H[0] + H[1]) % MOD  # Only two houses to rob\n",
        "    dp[2] = (H[0] + H[1] + H[2]) % MOD  # Rob all three\n",
        "\n",
        "    for i in range(3, N):\n",
        "        dp[i] = max(dp[i-2] + H[i] + H[i-1],\n",
        "                    dp[i-3] + H[i] + H[i-1] + H[i-2],\n",
        "                    dp[i-1]) % MOD\n",
        "\n",
        "    return dp[-1]\n",
        "\n",
        "# Input reading\n",
        "T = int(input())\n",
        "\n",
        "for _ in range(T):\n",
        "    N = int(input())\n",
        "    H = list(map(int, input().split()))\n",
        "\n",
        "    print(max_robbery(H))\n"
      ],
      "metadata": {
        "colab": {
          "base_uri": "https://localhost:8080/"
        },
        "id": "TDRZgLP9Gctm",
        "outputId": "8867ac2e-0873-4765-ab4e-9c286d321764"
      },
      "execution_count": null,
      "outputs": [
        {
          "output_type": "stream",
          "name": "stdout",
          "text": [
            "1\n",
            "5\n",
            "1 5 5 5 1\n",
            "17\n"
          ]
        }
      ]
    },
    {
      "cell_type": "code",
      "source": [
        "MOD = 10**9 + 7\n",
        "\n",
        "def max_robbery(H):\n",
        "    N = len(H)\n",
        "\n",
        "    if N == 1:\n",
        "        return 0\n",
        "\n",
        "    if N == 2:\n",
        "        return (H[0] + H[1]) % MOD\n",
        "\n",
        "    if N == 3:\n",
        "        return (H[0] + H[1] + H[2]) % MOD\n",
        "\n",
        "    # Initialize dp array\n",
        "    dp = [0] * N\n",
        "\n",
        "    # Base cases\n",
        "    dp[0] = 0  # No two houses to rob initially\n",
        "    dp[1] = (H[0] + H[1]) % MOD  # Only two houses to rob\n",
        "    dp[2] = (H[0] + H[1] + H[2]) % MOD  # Rob all three\n",
        "\n",
        "    for i in range(3, N):\n",
        "        dp[i] = max(dp[i-2] + H[i] + H[i-1],\n",
        "                    dp[i-3] + H[i] + H[i-1] + H[i-2],\n",
        "                    dp[i-1]) % MOD\n",
        "\n",
        "    return dp[-1]\n",
        "\n",
        "# Input reading\n",
        "T = int(input())\n",
        "\n",
        "for _ in range(T):\n",
        "    N = int(input())\n",
        "    H = list(map(int, input().split()))\n",
        "\n",
        "    print(max_robbery(H))\n"
      ],
      "metadata": {
        "colab": {
          "base_uri": "https://localhost:8080/"
        },
        "id": "uCjoiBooHFPx",
        "outputId": "4245def0-3834-4dbf-ded6-cab370ebb0dd"
      },
      "execution_count": null,
      "outputs": [
        {
          "output_type": "stream",
          "name": "stdout",
          "text": [
            "1\n",
            "5\n",
            "1 5 5 5 1\n",
            "17\n"
          ]
        }
      ]
    },
    {
      "cell_type": "code",
      "source": [
        "def max_robbery(houses):\n",
        "    \"\"\"\n",
        "    Calculates the maximum amount of money a thief can collect by robbing houses according to the given rules.\n",
        "\n",
        "    Args:\n",
        "        houses: A list of integers representing the money in each house.\n",
        "\n",
        "    Returns:\n",
        "        The maximum amount of money the thief can collect.\n",
        "    \"\"\"\n",
        "\n",
        "    n = len(houses)\n",
        "    dp = [0] * (n + 2)  # Add two extra elements to handle the edge cases\n",
        "\n",
        "    # Base cases:\n",
        "    # Robbing 1 house:\n",
        "    dp[1] = houses[0]\n",
        "    # Robbing 2 consecutive houses:\n",
        "    if n >= 2:\n",
        "        dp[2] = max(houses[0], houses[1])\n",
        "    # Robbing 3 consecutive houses:\n",
        "    if n >= 3:\n",
        "        dp[3] = max(houses[0] + houses[1], houses[1] + houses[2])\n",
        "\n",
        "    # Dynamic programming:\n",
        "    for i in range(4, n + 1):\n",
        "        # Robbing 2 consecutive houses:\n",
        "        rob_2 = houses[i - 1] + dp[i - 3]\n",
        "        # Robbing 3 consecutive houses:\n",
        "        rob_3 = houses[i - 1] + houses[i - 2] + dp[i - 4]\n",
        "        dp[i] = max(dp[i - 1], rob_2, rob_3)\n",
        "\n",
        "    return dp[n] % (10**9 + 7)\n",
        "\n",
        "T = int(input())\n",
        "\n",
        "for _ in range(T):\n",
        "    N = int(input())\n",
        "    H = list(map(int, input().split()))\n",
        "\n",
        "    print(max_robbery(H))\n",
        "\n",
        "\n"
      ],
      "metadata": {
        "colab": {
          "base_uri": "https://localhost:8080/"
        },
        "id": "Qe94Y6deHq9l",
        "outputId": "25be7018-2e54-4651-c462-c4d9b4c28a82"
      },
      "execution_count": null,
      "outputs": [
        {
          "output_type": "stream",
          "name": "stdout",
          "text": [
            "1\n",
            "5\n",
            "1 5 5 5 1\n",
            "10\n"
          ]
        }
      ]
    },
    {
      "cell_type": "code",
      "source": [
        "def contprofit(arr, k):\n",
        "    profits = 0\n",
        "    for i in range(len(arr) - k):\n",
        "        window = sum(arr[i : i + k])\n",
        "        for j in range(i + k, len(arr)):\n",
        "            nextwindow = sum(arr[j : j + k])\n",
        "            if j + k > len(arr) - 1:\n",
        "                diff = (j + k) - len(arr)\n",
        "                nextwindow += sum(arr[0:diff])\n",
        "            profits = max(profits, window + nextwindow)\n",
        "    return profits"
      ],
      "metadata": {
        "id": "NezMupHKIRkJ"
      },
      "execution_count": null,
      "outputs": []
    },
    {
      "cell_type": "code",
      "source": [
        "def merge_sorted_arrays(arr1, arr2):\n",
        "    # Initialize pointers for both arrays\n",
        "    i, j = 0, 0\n",
        "    merged = []\n",
        "\n",
        "    # Merge arrays until one is exhausted\n",
        "    while i < len(arr1) and j < len(arr2):\n",
        "        if arr1[i] < arr2[j]:\n",
        "            merged.append(arr1[i])\n",
        "            i += 1\n",
        "        else:\n",
        "            merged.append(arr2[j])\n",
        "            j += 1\n",
        "\n",
        "    # Append remaining elements from arr1, if any\n",
        "    while i < len(arr1):\n",
        "        merged.append(arr1[i])\n",
        "        i += 1\n",
        "\n",
        "    # Append remaining elements from arr2, if any\n",
        "    while j < len(arr2):\n",
        "        merged.append(arr2[j])\n",
        "        j += 1\n",
        "\n",
        "    return merged\n",
        "\n",
        "# Read input\n",
        "arr1 = list(map(int, input().split(',')))\n",
        "arr2 = list(map(int, input().split(',')))\n",
        "\n",
        "# Merge the arrays\n",
        "merged_array = merge_sorted_arrays(arr1, arr2)\n",
        "\n",
        "# Print the merged array as a comma-separated string\n",
        "print(','.join(map(str, merged_array)))"
      ],
      "metadata": {
        "id": "Z2gvNvH0S9Ln",
        "colab": {
          "base_uri": "https://localhost:8080/",
          "height": 373
        },
        "outputId": "86733cdb-8161-48d3-ea2e-4f6765146e46"
      },
      "execution_count": null,
      "outputs": [
        {
          "name": "stdout",
          "output_type": "stream",
          "text": [
            "1,2,3\n"
          ]
        },
        {
          "output_type": "error",
          "ename": "KeyboardInterrupt",
          "evalue": "Interrupted by user",
          "traceback": [
            "\u001b[0;31m---------------------------------------------------------------------------\u001b[0m",
            "\u001b[0;31mKeyboardInterrupt\u001b[0m                         Traceback (most recent call last)",
            "\u001b[0;32m<ipython-input-5-b9481d8a146c>\u001b[0m in \u001b[0;36m<cell line: 29>\u001b[0;34m()\u001b[0m\n\u001b[1;32m     27\u001b[0m \u001b[0;31m# Read input\u001b[0m\u001b[0;34m\u001b[0m\u001b[0;34m\u001b[0m\u001b[0m\n\u001b[1;32m     28\u001b[0m \u001b[0marr1\u001b[0m \u001b[0;34m=\u001b[0m \u001b[0mlist\u001b[0m\u001b[0;34m(\u001b[0m\u001b[0mmap\u001b[0m\u001b[0;34m(\u001b[0m\u001b[0mint\u001b[0m\u001b[0;34m,\u001b[0m \u001b[0minput\u001b[0m\u001b[0;34m(\u001b[0m\u001b[0;34m)\u001b[0m\u001b[0;34m.\u001b[0m\u001b[0msplit\u001b[0m\u001b[0;34m(\u001b[0m\u001b[0;34m','\u001b[0m\u001b[0;34m)\u001b[0m\u001b[0;34m)\u001b[0m\u001b[0;34m)\u001b[0m\u001b[0;34m\u001b[0m\u001b[0;34m\u001b[0m\u001b[0m\n\u001b[0;32m---> 29\u001b[0;31m \u001b[0marr2\u001b[0m \u001b[0;34m=\u001b[0m \u001b[0mlist\u001b[0m\u001b[0;34m(\u001b[0m\u001b[0mmap\u001b[0m\u001b[0;34m(\u001b[0m\u001b[0mint\u001b[0m\u001b[0;34m,\u001b[0m \u001b[0minput\u001b[0m\u001b[0;34m(\u001b[0m\u001b[0;34m)\u001b[0m\u001b[0;34m.\u001b[0m\u001b[0msplit\u001b[0m\u001b[0;34m(\u001b[0m\u001b[0;34m','\u001b[0m\u001b[0;34m)\u001b[0m\u001b[0;34m)\u001b[0m\u001b[0;34m)\u001b[0m\u001b[0;34m\u001b[0m\u001b[0;34m\u001b[0m\u001b[0m\n\u001b[0m\u001b[1;32m     30\u001b[0m \u001b[0;34m\u001b[0m\u001b[0m\n\u001b[1;32m     31\u001b[0m \u001b[0;31m# Merge the arrays\u001b[0m\u001b[0;34m\u001b[0m\u001b[0;34m\u001b[0m\u001b[0m\n",
            "\u001b[0;32m/usr/local/lib/python3.10/dist-packages/ipykernel/kernelbase.py\u001b[0m in \u001b[0;36mraw_input\u001b[0;34m(self, prompt)\u001b[0m\n\u001b[1;32m    849\u001b[0m                 \u001b[0;34m\"raw_input was called, but this frontend does not support input requests.\"\u001b[0m\u001b[0;34m\u001b[0m\u001b[0;34m\u001b[0m\u001b[0m\n\u001b[1;32m    850\u001b[0m             )\n\u001b[0;32m--> 851\u001b[0;31m         return self._input_request(str(prompt),\n\u001b[0m\u001b[1;32m    852\u001b[0m             \u001b[0mself\u001b[0m\u001b[0;34m.\u001b[0m\u001b[0m_parent_ident\u001b[0m\u001b[0;34m,\u001b[0m\u001b[0;34m\u001b[0m\u001b[0;34m\u001b[0m\u001b[0m\n\u001b[1;32m    853\u001b[0m             \u001b[0mself\u001b[0m\u001b[0;34m.\u001b[0m\u001b[0m_parent_header\u001b[0m\u001b[0;34m,\u001b[0m\u001b[0;34m\u001b[0m\u001b[0;34m\u001b[0m\u001b[0m\n",
            "\u001b[0;32m/usr/local/lib/python3.10/dist-packages/ipykernel/kernelbase.py\u001b[0m in \u001b[0;36m_input_request\u001b[0;34m(self, prompt, ident, parent, password)\u001b[0m\n\u001b[1;32m    893\u001b[0m             \u001b[0;32mexcept\u001b[0m \u001b[0mKeyboardInterrupt\u001b[0m\u001b[0;34m:\u001b[0m\u001b[0;34m\u001b[0m\u001b[0;34m\u001b[0m\u001b[0m\n\u001b[1;32m    894\u001b[0m                 \u001b[0;31m# re-raise KeyboardInterrupt, to truncate traceback\u001b[0m\u001b[0;34m\u001b[0m\u001b[0;34m\u001b[0m\u001b[0m\n\u001b[0;32m--> 895\u001b[0;31m                 \u001b[0;32mraise\u001b[0m \u001b[0mKeyboardInterrupt\u001b[0m\u001b[0;34m(\u001b[0m\u001b[0;34m\"Interrupted by user\"\u001b[0m\u001b[0;34m)\u001b[0m \u001b[0;32mfrom\u001b[0m \u001b[0;32mNone\u001b[0m\u001b[0;34m\u001b[0m\u001b[0;34m\u001b[0m\u001b[0m\n\u001b[0m\u001b[1;32m    896\u001b[0m             \u001b[0;32mexcept\u001b[0m \u001b[0mException\u001b[0m \u001b[0;32mas\u001b[0m \u001b[0me\u001b[0m\u001b[0;34m:\u001b[0m\u001b[0;34m\u001b[0m\u001b[0;34m\u001b[0m\u001b[0m\n\u001b[1;32m    897\u001b[0m                 \u001b[0mself\u001b[0m\u001b[0;34m.\u001b[0m\u001b[0mlog\u001b[0m\u001b[0;34m.\u001b[0m\u001b[0mwarning\u001b[0m\u001b[0;34m(\u001b[0m\u001b[0;34m\"Invalid Message:\"\u001b[0m\u001b[0;34m,\u001b[0m \u001b[0mexc_info\u001b[0m\u001b[0;34m=\u001b[0m\u001b[0;32mTrue\u001b[0m\u001b[0;34m)\u001b[0m\u001b[0;34m\u001b[0m\u001b[0;34m\u001b[0m\u001b[0m\n",
            "\u001b[0;31mKeyboardInterrupt\u001b[0m: Interrupted by user"
          ]
        }
      ]
    },
    {
      "cell_type": "code",
      "source": [
        "# Read the number of books (X) from STDIN\n",
        "x = int(input())\n",
        "\n",
        "# Read the price per book (Y) from STDIN\n",
        "y = int(input())\n",
        "\n",
        "# Calculate the initial total price\n",
        "total_price = x * y\n",
        "\n",
        "# Apply discount based on the number of books\n",
        "if 2 <= x <= 4:\n",
        "    total_price *= 0.90  # Apply 10% discount\n",
        "elif x == 5:\n",
        "    total_price *= 0.80  # Apply 20% discount\n",
        "elif x > 5:\n",
        "    total_price *= 0.50  # Apply 50% discount\n",
        "\n",
        "# Output the final price to STDOUT\n",
        "print(total_price)\n"
      ],
      "metadata": {
        "colab": {
          "base_uri": "https://localhost:8080/"
        },
        "id": "2KYwnHiKjWix",
        "outputId": "cdb428b7-3464-479b-d61c-026515bb7d65"
      },
      "execution_count": null,
      "outputs": [
        {
          "output_type": "stream",
          "name": "stdout",
          "text": [
            "2\n",
            "4\n",
            "7.2\n"
          ]
        }
      ]
    },
    {
      "cell_type": "code",
      "source": [
        "def merge_sorted_arrays(arr1, arr2):\n",
        "    return sorted(arr1 + arr2)\n",
        "\n",
        "# Read input and merge the arrays\n",
        "arr1 = list(map(int, input().split(',')))\n",
        "arr2 = list(map(int, input().split(',')))\n",
        "merged_array = merge_sorted_arrays(arr1, arr2)\n",
        "\n",
        "# Print the merged array as a comma-separated string\n",
        "print(','.join(map(str, merged_array)))\n"
      ],
      "metadata": {
        "colab": {
          "base_uri": "https://localhost:8080/"
        },
        "id": "EvS-gRQPkpPc",
        "outputId": "0cc75b8d-62d9-46a9-e899-89e7a257a566"
      },
      "execution_count": null,
      "outputs": [
        {
          "output_type": "stream",
          "name": "stdout",
          "text": [
            "1,4,6\n",
            "2,3,5\n",
            "1,2,3,4,5,6\n"
          ]
        }
      ]
    },
    {
      "cell_type": "code",
      "source": [
        "def merge(self, nums1: List[int], m: int, nums2: List[int], n: int) -> None:\n",
        "\ta, b, write_index = m-1, n-1, m + n - 1\n",
        "\n",
        "\twhile b >= 0:\n",
        "\t\tif a >= 0 and nums1[a] > nums2[b]:\n",
        "\t\t\tnums1[write_index] = nums1[a]\n",
        "\t\t\ta -= 1\n",
        "\t\telse:\n",
        "\t\t\tnums1[write_index] = nums2[b]\n",
        "\t\t\tb -= 1\n",
        "\n",
        "\t\twrite_index -= 1\n"
      ],
      "metadata": {
        "colab": {
          "base_uri": "https://localhost:8080/",
          "height": 211
        },
        "id": "p0zaIvZVnrlP",
        "outputId": "310879a1-1e2a-4885-fbfc-d22e4f142370"
      },
      "execution_count": null,
      "outputs": [
        {
          "output_type": "error",
          "ename": "NameError",
          "evalue": "name 'List' is not defined",
          "traceback": [
            "\u001b[0;31m---------------------------------------------------------------------------\u001b[0m",
            "\u001b[0;31mNameError\u001b[0m                                 Traceback (most recent call last)",
            "\u001b[0;32m<ipython-input-7-70a7f34d3ed2>\u001b[0m in \u001b[0;36m<cell line: 1>\u001b[0;34m()\u001b[0m\n\u001b[0;32m----> 1\u001b[0;31m \u001b[0;32mdef\u001b[0m \u001b[0mmerge\u001b[0m\u001b[0;34m(\u001b[0m\u001b[0mself\u001b[0m\u001b[0;34m,\u001b[0m \u001b[0mnums1\u001b[0m\u001b[0;34m:\u001b[0m \u001b[0mList\u001b[0m\u001b[0;34m[\u001b[0m\u001b[0mint\u001b[0m\u001b[0;34m]\u001b[0m\u001b[0;34m,\u001b[0m \u001b[0mm\u001b[0m\u001b[0;34m:\u001b[0m \u001b[0mint\u001b[0m\u001b[0;34m,\u001b[0m \u001b[0mnums2\u001b[0m\u001b[0;34m:\u001b[0m \u001b[0mList\u001b[0m\u001b[0;34m[\u001b[0m\u001b[0mint\u001b[0m\u001b[0;34m]\u001b[0m\u001b[0;34m,\u001b[0m \u001b[0mn\u001b[0m\u001b[0;34m:\u001b[0m \u001b[0mint\u001b[0m\u001b[0;34m)\u001b[0m \u001b[0;34m->\u001b[0m \u001b[0;32mNone\u001b[0m\u001b[0;34m:\u001b[0m\u001b[0;34m\u001b[0m\u001b[0;34m\u001b[0m\u001b[0m\n\u001b[0m\u001b[1;32m      2\u001b[0m         \u001b[0ma\u001b[0m\u001b[0;34m,\u001b[0m \u001b[0mb\u001b[0m\u001b[0;34m,\u001b[0m \u001b[0mwrite_index\u001b[0m \u001b[0;34m=\u001b[0m \u001b[0mm\u001b[0m\u001b[0;34m-\u001b[0m\u001b[0;36m1\u001b[0m\u001b[0;34m,\u001b[0m \u001b[0mn\u001b[0m\u001b[0;34m-\u001b[0m\u001b[0;36m1\u001b[0m\u001b[0;34m,\u001b[0m \u001b[0mm\u001b[0m \u001b[0;34m+\u001b[0m \u001b[0mn\u001b[0m \u001b[0;34m-\u001b[0m \u001b[0;36m1\u001b[0m\u001b[0;34m\u001b[0m\u001b[0;34m\u001b[0m\u001b[0m\n\u001b[1;32m      3\u001b[0m \u001b[0;34m\u001b[0m\u001b[0m\n\u001b[1;32m      4\u001b[0m         \u001b[0;32mwhile\u001b[0m \u001b[0mb\u001b[0m \u001b[0;34m>=\u001b[0m \u001b[0;36m0\u001b[0m\u001b[0;34m:\u001b[0m\u001b[0;34m\u001b[0m\u001b[0;34m\u001b[0m\u001b[0m\n\u001b[1;32m      5\u001b[0m                 \u001b[0;32mif\u001b[0m \u001b[0ma\u001b[0m \u001b[0;34m>=\u001b[0m \u001b[0;36m0\u001b[0m \u001b[0;32mand\u001b[0m \u001b[0mnums1\u001b[0m\u001b[0;34m[\u001b[0m\u001b[0ma\u001b[0m\u001b[0;34m]\u001b[0m \u001b[0;34m>\u001b[0m \u001b[0mnums2\u001b[0m\u001b[0;34m[\u001b[0m\u001b[0mb\u001b[0m\u001b[0;34m]\u001b[0m\u001b[0;34m:\u001b[0m\u001b[0;34m\u001b[0m\u001b[0;34m\u001b[0m\u001b[0m\n",
            "\u001b[0;31mNameError\u001b[0m: name 'List' is not defined"
          ]
        }
      ]
    },
    {
      "cell_type": "code",
      "source": [
        "from typing import List\n",
        "\n",
        "def merge(self, nums1: List[int], m: int, nums2: List[int], n: int) -> None:\n",
        "    a, b, write_index = m - 1, n - 1, m + n - 1\n",
        "\n",
        "    while b >= 0:\n",
        "        if a >= 0 and nums1[a] > nums2[b]:\n",
        "            nums1[write_index] = nums1[a]\n",
        "            a -= 1\n",
        "        else:\n",
        "            nums1[write_index] = nums2[b]\n",
        "            b -= 1\n",
        "\n",
        "        write_index -= 1\n"
      ],
      "metadata": {
        "id": "OHRLBllVo0dh"
      },
      "execution_count": null,
      "outputs": []
    },
    {
      "cell_type": "code",
      "source": [
        "def merge_sorted_arrays(arr1, arr2):\n",
        "    return sorted(arr1 + arr2)\n",
        "\n",
        "# Read input and merge the arrays\n",
        "arr1 = list(map(int, input().split(',')))\n",
        "arr2 = list(map(int, input().split(',')))\n",
        "merged_array = merge_sorted_arrays(arr1, arr2)\n",
        "\n",
        "# Print the merged array as a comma-separated string\n",
        "print(','.join(map(str,merged_array)))"
      ],
      "metadata": {
        "colab": {
          "base_uri": "https://localhost:8080/"
        },
        "id": "zyyndI_7pG9D",
        "outputId": "4378c39e-196f-4f7b-9ac4-a22bbd7760e9"
      },
      "execution_count": null,
      "outputs": [
        {
          "output_type": "stream",
          "name": "stdout",
          "text": [
            "1,4,6\n",
            "2,3,5\n",
            "1,2,3,4,5,6\n"
          ]
        }
      ]
    },
    {
      "cell_type": "code",
      "source": [
        "# Read inputs\n",
        "x = int(input())\n",
        "y = int(input())\n",
        "\n",
        "# Calculate total price with discount\n",
        "discounts = {range(2, 5): 0.90, 5: 0.80, range(6, float('inf')): 0.50}\n",
        "discount = next((v for k, v in discounts.items() if x in k), 1)\n",
        "total_price = x * y * discount\n",
        "\n",
        "# Output the final price\n",
        "print(total_price)"
      ],
      "metadata": {
        "colab": {
          "base_uri": "https://localhost:8080/",
          "height": 356
        },
        "id": "LKj1wMo4pcZZ",
        "outputId": "0d2b08e2-b4b8-4dc9-dc6e-198fc77562ad"
      },
      "execution_count": null,
      "outputs": [
        {
          "output_type": "error",
          "ename": "KeyboardInterrupt",
          "evalue": "Interrupted by user",
          "traceback": [
            "\u001b[0;31m---------------------------------------------------------------------------\u001b[0m",
            "\u001b[0;31mKeyboardInterrupt\u001b[0m                         Traceback (most recent call last)",
            "\u001b[0;32m<ipython-input-10-ec62b29dae28>\u001b[0m in \u001b[0;36m<cell line: 2>\u001b[0;34m()\u001b[0m\n\u001b[1;32m      1\u001b[0m \u001b[0;31m# Read inputs\u001b[0m\u001b[0;34m\u001b[0m\u001b[0;34m\u001b[0m\u001b[0m\n\u001b[0;32m----> 2\u001b[0;31m \u001b[0mx\u001b[0m \u001b[0;34m=\u001b[0m \u001b[0mint\u001b[0m\u001b[0;34m(\u001b[0m\u001b[0minput\u001b[0m\u001b[0;34m(\u001b[0m\u001b[0;34m)\u001b[0m\u001b[0;34m)\u001b[0m\u001b[0;34m\u001b[0m\u001b[0;34m\u001b[0m\u001b[0m\n\u001b[0m\u001b[1;32m      3\u001b[0m \u001b[0my\u001b[0m \u001b[0;34m=\u001b[0m \u001b[0mint\u001b[0m\u001b[0;34m(\u001b[0m\u001b[0minput\u001b[0m\u001b[0;34m(\u001b[0m\u001b[0;34m)\u001b[0m\u001b[0;34m)\u001b[0m\u001b[0;34m\u001b[0m\u001b[0;34m\u001b[0m\u001b[0m\n\u001b[1;32m      4\u001b[0m \u001b[0;34m\u001b[0m\u001b[0m\n\u001b[1;32m      5\u001b[0m \u001b[0;31m# Calculate total price with discount\u001b[0m\u001b[0;34m\u001b[0m\u001b[0;34m\u001b[0m\u001b[0m\n",
            "\u001b[0;32m/usr/local/lib/python3.10/dist-packages/ipykernel/kernelbase.py\u001b[0m in \u001b[0;36mraw_input\u001b[0;34m(self, prompt)\u001b[0m\n\u001b[1;32m    849\u001b[0m                 \u001b[0;34m\"raw_input was called, but this frontend does not support input requests.\"\u001b[0m\u001b[0;34m\u001b[0m\u001b[0;34m\u001b[0m\u001b[0m\n\u001b[1;32m    850\u001b[0m             )\n\u001b[0;32m--> 851\u001b[0;31m         return self._input_request(str(prompt),\n\u001b[0m\u001b[1;32m    852\u001b[0m             \u001b[0mself\u001b[0m\u001b[0;34m.\u001b[0m\u001b[0m_parent_ident\u001b[0m\u001b[0;34m,\u001b[0m\u001b[0;34m\u001b[0m\u001b[0;34m\u001b[0m\u001b[0m\n\u001b[1;32m    853\u001b[0m             \u001b[0mself\u001b[0m\u001b[0;34m.\u001b[0m\u001b[0m_parent_header\u001b[0m\u001b[0;34m,\u001b[0m\u001b[0;34m\u001b[0m\u001b[0;34m\u001b[0m\u001b[0m\n",
            "\u001b[0;32m/usr/local/lib/python3.10/dist-packages/ipykernel/kernelbase.py\u001b[0m in \u001b[0;36m_input_request\u001b[0;34m(self, prompt, ident, parent, password)\u001b[0m\n\u001b[1;32m    893\u001b[0m             \u001b[0;32mexcept\u001b[0m \u001b[0mKeyboardInterrupt\u001b[0m\u001b[0;34m:\u001b[0m\u001b[0;34m\u001b[0m\u001b[0;34m\u001b[0m\u001b[0m\n\u001b[1;32m    894\u001b[0m                 \u001b[0;31m# re-raise KeyboardInterrupt, to truncate traceback\u001b[0m\u001b[0;34m\u001b[0m\u001b[0;34m\u001b[0m\u001b[0m\n\u001b[0;32m--> 895\u001b[0;31m                 \u001b[0;32mraise\u001b[0m \u001b[0mKeyboardInterrupt\u001b[0m\u001b[0;34m(\u001b[0m\u001b[0;34m\"Interrupted by user\"\u001b[0m\u001b[0;34m)\u001b[0m \u001b[0;32mfrom\u001b[0m \u001b[0;32mNone\u001b[0m\u001b[0;34m\u001b[0m\u001b[0;34m\u001b[0m\u001b[0m\n\u001b[0m\u001b[1;32m    896\u001b[0m             \u001b[0;32mexcept\u001b[0m \u001b[0mException\u001b[0m \u001b[0;32mas\u001b[0m \u001b[0me\u001b[0m\u001b[0;34m:\u001b[0m\u001b[0;34m\u001b[0m\u001b[0;34m\u001b[0m\u001b[0m\n\u001b[1;32m    897\u001b[0m                 \u001b[0mself\u001b[0m\u001b[0;34m.\u001b[0m\u001b[0mlog\u001b[0m\u001b[0;34m.\u001b[0m\u001b[0mwarning\u001b[0m\u001b[0;34m(\u001b[0m\u001b[0;34m\"Invalid Message:\"\u001b[0m\u001b[0;34m,\u001b[0m \u001b[0mexc_info\u001b[0m\u001b[0;34m=\u001b[0m\u001b[0;32mTrue\u001b[0m\u001b[0;34m)\u001b[0m\u001b[0;34m\u001b[0m\u001b[0;34m\u001b[0m\u001b[0m\n",
            "\u001b[0;31mKeyboardInterrupt\u001b[0m: Interrupted by user"
          ]
        }
      ]
    },
    {
      "cell_type": "code",
      "source": [
        "class DigitSum:\n",
        "    def addDigits(self, num: int) -> int:\n",
        "        # Repeatedly sum the digits until only one digit is left\n",
        "        while num >= 10:\n",
        "            num = sum(int(digit) for digit in str(num))\n",
        "        return num\n",
        "\n",
        "if __name__ == \"__main__\":\n",
        "    num = int(input())\n",
        "    print(DigitSum().addDigits(num=num))\n"
      ],
      "metadata": {
        "id": "l64r1ruZph6b",
        "colab": {
          "base_uri": "https://localhost:8080/"
        },
        "outputId": "8c8810a4-52e4-4fcb-8379-e917de2c44ee"
      },
      "execution_count": null,
      "outputs": [
        {
          "output_type": "stream",
          "name": "stdout",
          "text": [
            "433\n",
            "1\n"
          ]
        }
      ]
    },
    {
      "cell_type": "code",
      "source": [
        "# Read the variables X and Y from STDIN\n",
        "X, Y = map(int, input().split())\n",
        "\n",
        "# Calculate the total price before discount\n",
        "total_price = X * Y\n",
        "\n",
        "# Apply the discount based on the conditions\n",
        "if 2 <= X < 4:\n",
        "    discount = 0.10 * total_price\n",
        "elif X == 5:\n",
        "    discount = 0.20 * total_price\n",
        "elif X > 5:\n",
        "    discount = 0.50 * total_price\n",
        "else:\n",
        "    discount = 0\n",
        "\n",
        "# Calculate the final price after discount\n",
        "final_price = total_price - discount\n",
        "\n",
        "# Output the final price\n",
        "print(int(final_price))\n"
      ],
      "metadata": {
        "colab": {
          "base_uri": "https://localhost:8080/"
        },
        "id": "Xrkzn4VrwV-N",
        "outputId": "fc628654-129a-41a2-b41e-4ac708d26946"
      },
      "execution_count": null,
      "outputs": [
        {
          "output_type": "stream",
          "name": "stdout",
          "text": [
            "6 150\n",
            "450\n"
          ]
        }
      ]
    },
    {
      "cell_type": "code",
      "source": [
        "#Common letters in 2 sting\n",
        "def common_letters():\n",
        "  str1=input(\"your name\")\n",
        "  str2=input(\"your name\")\n",
        "  s1=set(str1)\n",
        "  s2=set(str2)\n",
        "  C= s1&s2\n",
        "  print(C)\n",
        "common_letters()\n",
        "\n"
      ],
      "metadata": {
        "id": "Oq8SwQHnwwtD",
        "colab": {
          "base_uri": "https://localhost:8080/"
        },
        "outputId": "f852165f-b85d-4184-afa4-f0183410f741"
      },
      "execution_count": 2,
      "outputs": [
        {
          "output_type": "stream",
          "name": "stdout",
          "text": [
            "your namedivyanshi\n",
            "your namekaluram\n",
            "{'a'}\n"
          ]
        }
      ]
    },
    {
      "cell_type": "code",
      "source": [
        "def word_count():\n",
        "  str=input(\"enter the string:\")\n",
        "  l=str.split()\n",
        "  d={}\n",
        "\n",
        "  for i in l:\n",
        "    if i not in d.keys():\n",
        "      d[i]=0\n",
        "    d[i]=d[i]+1\n",
        "  print(d)\n",
        "\n",
        "word_count()"
      ],
      "metadata": {
        "colab": {
          "base_uri": "https://localhost:8080/"
        },
        "id": "6J1gQdNDx7mP",
        "outputId": "ad2193f2-6abd-4b2e-e68e-1bf487ee899e"
      },
      "execution_count": 10,
      "outputs": [
        {
          "output_type": "stream",
          "name": "stdout",
          "text": [
            "Enter the string: Divyanshi loves to eat an apple. Her sister doesnot loves to eat an apple\n",
            "{'Divyanshi': 1, 'loves': 2, 'to': 2, 'eat': 2, 'an': 2, 'apple.': 1, 'Her': 1, 'sister': 1, 'doesnot': 1, 'apple': 1}\n"
          ]
        }
      ]
    },
    {
      "cell_type": "code",
      "source": [
        "def list_to_dict():\n",
        "  l1=[1, 2, 3]\n",
        "  l2=[\"one\", \"two\", \"three\"]\n",
        "  result=dict(zip(l1, l2))\n",
        "  print(result)\n",
        "\n",
        "\n",
        "def dict_to_touple():\n",
        "  x={1:\"one\", 2:\"two\", 3:\"three\"}\n",
        "  for i in x.items():\n",
        "    print(i)\n",
        "\n",
        "\n",
        "list_to_dict()\n",
        "dict_to_touple()\n"
      ],
      "metadata": {
        "colab": {
          "base_uri": "https://localhost:8080/"
        },
        "id": "64fGKXWj2vPe",
        "outputId": "be22de48-5f96-4da2-d991-99ae94464d5b"
      },
      "execution_count": 15,
      "outputs": [
        {
          "output_type": "stream",
          "name": "stdout",
          "text": [
            "{1: 'one', 2: 'two', 3: 'three'}\n",
            "(1, 'one')\n",
            "(2, 'two')\n",
            "(3, 'three')\n"
          ]
        }
      ]
    },
    {
      "cell_type": "code",
      "source": [],
      "metadata": {
        "id": "X250nJTm8j2g"
      },
      "execution_count": null,
      "outputs": []
    }
  ]
}